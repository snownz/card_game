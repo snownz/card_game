{
 "cells": [
  {
   "cell_type": "code",
   "execution_count": 1,
   "id": "a197a642",
   "metadata": {},
   "outputs": [
    {
     "name": "stdout",
     "output_type": "stream",
     "text": [
      "2 Physical GPUs, 2 Logical GPUs\n"
     ]
    },
    {
     "name": "stderr",
     "output_type": "stream",
     "text": [
      "2021-10-22 10:31:32.494710: I tensorflow/stream_executor/cuda/cuda_gpu_executor.cc:937] successful NUMA node read from SysFS had negative value (-1), but there must be at least one NUMA node, so returning NUMA node zero\n",
      "2021-10-22 10:31:32.496149: I tensorflow/stream_executor/cuda/cuda_gpu_executor.cc:937] successful NUMA node read from SysFS had negative value (-1), but there must be at least one NUMA node, so returning NUMA node zero\n",
      "2021-10-22 10:31:32.501990: I tensorflow/stream_executor/cuda/cuda_gpu_executor.cc:937] successful NUMA node read from SysFS had negative value (-1), but there must be at least one NUMA node, so returning NUMA node zero\n",
      "2021-10-22 10:31:32.503414: I tensorflow/stream_executor/cuda/cuda_gpu_executor.cc:937] successful NUMA node read from SysFS had negative value (-1), but there must be at least one NUMA node, so returning NUMA node zero\n",
      "2021-10-22 10:31:32.504066: I tensorflow/stream_executor/cuda/cuda_gpu_executor.cc:937] successful NUMA node read from SysFS had negative value (-1), but there must be at least one NUMA node, so returning NUMA node zero\n",
      "2021-10-22 10:31:32.505257: I tensorflow/stream_executor/cuda/cuda_gpu_executor.cc:937] successful NUMA node read from SysFS had negative value (-1), but there must be at least one NUMA node, so returning NUMA node zero\n",
      "2021-10-22 10:31:32.506675: I tensorflow/core/platform/cpu_feature_guard.cc:142] This TensorFlow binary is optimized with oneAPI Deep Neural Network Library (oneDNN) to use the following CPU instructions in performance-critical operations:  AVX2 FMA\n",
      "To enable them in other operations, rebuild TensorFlow with the appropriate compiler flags.\n",
      "2021-10-22 10:31:32.665825: I tensorflow/stream_executor/cuda/cuda_gpu_executor.cc:937] successful NUMA node read from SysFS had negative value (-1), but there must be at least one NUMA node, so returning NUMA node zero\n",
      "2021-10-22 10:31:32.666537: I tensorflow/stream_executor/cuda/cuda_gpu_executor.cc:937] successful NUMA node read from SysFS had negative value (-1), but there must be at least one NUMA node, so returning NUMA node zero\n",
      "2021-10-22 10:31:32.667037: I tensorflow/stream_executor/cuda/cuda_gpu_executor.cc:937] successful NUMA node read from SysFS had negative value (-1), but there must be at least one NUMA node, so returning NUMA node zero\n",
      "2021-10-22 10:31:32.667733: I tensorflow/stream_executor/cuda/cuda_gpu_executor.cc:937] successful NUMA node read from SysFS had negative value (-1), but there must be at least one NUMA node, so returning NUMA node zero\n",
      "2021-10-22 10:31:32.668132: I tensorflow/stream_executor/cuda/cuda_gpu_executor.cc:937] successful NUMA node read from SysFS had negative value (-1), but there must be at least one NUMA node, so returning NUMA node zero\n",
      "2021-10-22 10:31:32.668829: I tensorflow/stream_executor/cuda/cuda_gpu_executor.cc:937] successful NUMA node read from SysFS had negative value (-1), but there must be at least one NUMA node, so returning NUMA node zero\n",
      "2021-10-22 10:31:33.242646: I tensorflow/stream_executor/cuda/cuda_gpu_executor.cc:937] successful NUMA node read from SysFS had negative value (-1), but there must be at least one NUMA node, so returning NUMA node zero\n",
      "2021-10-22 10:31:33.243426: I tensorflow/stream_executor/cuda/cuda_gpu_executor.cc:937] successful NUMA node read from SysFS had negative value (-1), but there must be at least one NUMA node, so returning NUMA node zero\n",
      "2021-10-22 10:31:33.243834: I tensorflow/stream_executor/cuda/cuda_gpu_executor.cc:937] successful NUMA node read from SysFS had negative value (-1), but there must be at least one NUMA node, so returning NUMA node zero\n",
      "2021-10-22 10:31:33.244536: I tensorflow/stream_executor/cuda/cuda_gpu_executor.cc:937] successful NUMA node read from SysFS had negative value (-1), but there must be at least one NUMA node, so returning NUMA node zero\n",
      "2021-10-22 10:31:33.244937: I tensorflow/stream_executor/cuda/cuda_gpu_executor.cc:937] successful NUMA node read from SysFS had negative value (-1), but there must be at least one NUMA node, so returning NUMA node zero\n",
      "2021-10-22 10:31:33.245633: I tensorflow/core/common_runtime/gpu/gpu_device.cc:1510] Created device /job:localhost/replica:0/task:0/device:GPU:0 with 20379 MB memory:  -> device: 0, name: GeForce RTX 3090, pci bus id: 0000:09:00.0, compute capability: 8.6\n",
      "2021-10-22 10:31:33.245922: I tensorflow/stream_executor/cuda/cuda_gpu_executor.cc:937] successful NUMA node read from SysFS had negative value (-1), but there must be at least one NUMA node, so returning NUMA node zero\n",
      "2021-10-22 10:31:33.246317: I tensorflow/core/common_runtime/gpu/gpu_device.cc:1510] Created device /job:localhost/replica:0/task:0/device:GPU:1 with 6380 MB memory:  -> device: 1, name: GeForce RTX 2080 SUPER, pci bus id: 0000:08:00.0, compute capability: 7.5\n"
     ]
    }
   ],
   "source": [
    "import config_tf\n",
    "from dataset import CardsWarper\n",
    "from models import CardsEmbeding_v2\n",
    "import numpy as np\n",
    "import tensorflow as tf\n",
    "import matplotlib.pyplot as plt\n",
    "from dataset import sets_tasks_v2"
   ]
  },
  {
   "cell_type": "code",
   "execution_count": 4,
   "id": "4fb1cac9",
   "metadata": {},
   "outputs": [],
   "source": [
    "hand_size = 5\n",
    "max_repeat = 5\n",
    "\n",
    "embeding_size = 64\n",
    "num_blocks = 2\n",
    "num_heads = 2"
   ]
  },
  {
   "cell_type": "code",
   "execution_count": 5,
   "id": "b4092b15",
   "metadata": {},
   "outputs": [],
   "source": [
    "wp = CardsWarper( 'cards.json' )"
   ]
  },
  {
   "cell_type": "code",
   "execution_count": 69,
   "id": "93b96b84",
   "metadata": {},
   "outputs": [],
   "source": [
    "dec1 = np.array( [[ 1, 2, 3, 4, 5 ]] )\n",
    "dec2 = np.array( [[ 4, 6, 5, 8, 7 ]] )\n",
    "dec3 = np.array( [[ 1, 7, 8, 9, 10 ]] )\n",
    "dec4 = np.array( [[ 10, 11, 14, 14 ]] )\n",
    "dec5 = np.array( [[ 25, 28, 31 ]] )"
   ]
  },
  {
   "cell_type": "code",
   "execution_count": 70,
   "id": "c10b3bd8",
   "metadata": {},
   "outputs": [
    {
     "name": "stdout",
     "output_type": "stream",
     "text": [
      "\n",
      "\n",
      "=========================================================================================\n",
      "\n",
      "Loading from: saved/test_v2_1\n",
      "\n",
      "=========================================================================================\n",
      "\n",
      "\n",
      "[[1 1 1 1 1]]\n",
      "[[1 1 1 1 1]]\n",
      "[[1 1 1 1 1]]\n"
     ]
    }
   ],
   "source": [
    "with tf.device('/device:CPU:0'):\n",
    "\n",
    "    model = model = CardsEmbeding_v2( 'test_v2_1', 'saved/', len(wp), embeding_size, hand_size, max_repeat, num_blocks, num_heads )\n",
    "    model.load_training( 'saved/', model.m_name )\n",
    "    \n",
    "    o1, _, a1, m1 = model( dec1 )\n",
    "    o2, _, a2, m2 = model( dec2 )\n",
    "    o3, _, a3, m3 = model( dec3 )\n",
    "\n",
    "    e1 = model.get_embeding_eval( dec1 )\n",
    "    e2 = model.get_embeding_eval( dec2 )\n",
    "    e3 = model.get_embeding_eval( dec3 )\n",
    "    e4 = model.get_embeding_eval( dec4 )\n",
    "    e5 = model.get_embeding_eval( dec5 )\n",
    "    \n",
    "    print( np.argmax( o1, -1 )[0][-1][dec1] )\n",
    "    print( np.argmax( o2, -1 )[0][-1][dec2] )\n",
    "    print( np.argmax( o3, -1 )[0][-1][dec3] )"
   ]
  },
  {
   "cell_type": "code",
   "execution_count": 59,
   "id": "6d87b999",
   "metadata": {},
   "outputs": [
    {
     "name": "stdout",
     "output_type": "stream",
     "text": [
      "[1 2 3 4 5 7 8]\n",
      "[4 6 5 8 7]\n",
      "(array([1, 2, 3]),)\n"
     ]
    }
   ],
   "source": [
    "with tf.device('/device:CPU:0'):\n",
    "    op1 = e1 - e2\n",
    "    _, _, _, erm1 = model.reconstruct_eval( tf.expand_dims( op1, 1 ) )\n",
    "    r1 = erm1.numpy()[0][0]\n",
    "    \n",
    "print(dec1[0])\n",
    "print(dec2[0])\n",
    "print( np.where( r1 ) )"
   ]
  },
  {
   "cell_type": "code",
   "execution_count": 66,
   "id": "8617035b",
   "metadata": {},
   "outputs": [
    {
     "name": "stdout",
     "output_type": "stream",
     "text": [
      "[ 7  8  9 10]\n",
      "[10 11 14 14]\n",
      "(array([4, 5, 6]),)\n"
     ]
    }
   ],
   "source": [
    "with tf.device('/device:CPU:0'):\n",
    "    op1 = e2 - e3   \n",
    "    _, _, _, erm1 = model.reconstruct_eval( tf.expand_dims( op1, 1 ) )\n",
    "    r1 = erm1.numpy()[0][0]\n",
    "    \n",
    "print(dec3[0])\n",
    "print(dec4[0])\n",
    "print( np.where( r1 ) )"
   ]
  },
  {
   "cell_type": "code",
   "execution_count": 71,
   "id": "a4df1ec3",
   "metadata": {},
   "outputs": [
    {
     "name": "stdout",
     "output_type": "stream",
     "text": [
      "[1 2 3 4 5]\n",
      "[4 6 5 8 7]\n",
      "[ 1  7  8  9 10]\n",
      "[10 11 14 14]\n",
      "(array([2, 3]),)\n"
     ]
    }
   ],
   "source": [
    "with tf.device('/device:CPU:0'):\n",
    "    op1 = ( e1 - e2 ) - e3\n",
    "    _, _, _, erm1 = model.reconstruct_eval( tf.expand_dims( op1, 1 ) )\n",
    "    r1 = erm1.numpy()[0][0]\n",
    "    \n",
    "print(dec1[0])\n",
    "print(dec2[0])\n",
    "print(dec3[0])\n",
    "print(dec4[0])\n",
    "print( np.where( r1 ) )"
   ]
  },
  {
   "cell_type": "code",
   "execution_count": null,
   "id": "820bbedf",
   "metadata": {},
   "outputs": [],
   "source": [
    "m = m1[:,0,...]\n",
    "fig, axs = plt.subplots( 2, 2, figsize=( 10, 10 ) )\n",
    "\n",
    "axs[0,0].imshow( m[0,0], cmap='gray', interpolation='nearest' )\n",
    "axs[0,1].imshow( m[0,1], cmap='gray', interpolation='nearest' )\n",
    "axs[1,0].imshow( m[1,0], cmap='gray', interpolation='nearest' )\n",
    "axs[1,1].imshow( m[1,1], cmap='gray', interpolation='nearest' )"
   ]
  },
  {
   "cell_type": "code",
   "execution_count": 2,
   "id": "22db9406",
   "metadata": {},
   "outputs": [
    {
     "data": {
      "text/plain": [
       "array([[[0., 0., 0., 0., 0., 0., 0., 0., 0., 0., 0., 0., 0., 0., 0., 0.,\n",
       "         0., 0., 0., 0., 0., 0., 0., 0., 0., 0., 0., 0., 0., 0., 0., 0.,\n",
       "         0., 0., 0., 0., 0., 0., 0., 0., 0., 0., 0., 0., 0., 0., 0., 0.,\n",
       "         0., 0., 0., 0., 0.],\n",
       "        [0., 0., 0., 0., 0., 0., 0., 0., 0., 0., 0., 0., 0., 0., 0., 0.,\n",
       "         0., 0., 0., 0., 0., 0., 0., 0., 0., 0., 0., 0., 0., 0., 0., 0.,\n",
       "         0., 0., 0., 0., 0., 0., 0., 0., 0., 0., 0., 0., 0., 0., 0., 0.,\n",
       "         0., 0., 0., 0., 0.],\n",
       "        [0., 0., 0., 1., 0., 0., 0., 0., 0., 0., 0., 0., 0., 0., 0., 0.,\n",
       "         0., 0., 0., 0., 0., 0., 0., 0., 0., 0., 0., 0., 0., 0., 0., 0.,\n",
       "         0., 0., 0., 0., 0., 0., 0., 0., 0., 0., 0., 0., 0., 0., 0., 0.,\n",
       "         0., 0., 0., 0., 0.],\n",
       "        [0., 0., 0., 1., 1., 0., 0., 0., 0., 0., 0., 0., 0., 0., 0., 0.,\n",
       "         0., 0., 0., 0., 0., 0., 0., 0., 0., 0., 0., 0., 0., 0., 0., 0.,\n",
       "         0., 0., 0., 0., 0., 0., 0., 0., 0., 0., 0., 0., 0., 0., 0., 0.,\n",
       "         0., 0., 0., 0., 0.],\n",
       "        [0., 0., 0., 1., 1., 1., 0., 0., 0., 0., 0., 0., 0., 0., 0., 0.,\n",
       "         0., 0., 0., 0., 0., 0., 0., 0., 0., 0., 0., 0., 0., 0., 0., 0.,\n",
       "         0., 0., 0., 0., 0., 0., 0., 0., 0., 0., 0., 0., 0., 0., 0., 0.,\n",
       "         0., 0., 0., 0., 0.]]])"
      ]
     },
     "execution_count": 2,
     "metadata": {},
     "output_type": "execute_result"
    }
   ],
   "source": [
    "data = np.array( [ [ 1, 2, 3, 4, 5 ], [ 3, 4, 5, 6, 7 ] ] )\n",
    "_, _, _, ym = sets_tasks_v2(data, 5, 53, 2 )\n",
    "ym"
   ]
  }
 ],
 "metadata": {
  "kernelspec": {
   "display_name": "Python 3 (ipykernel)",
   "language": "python",
   "name": "python3"
  },
  "language_info": {
   "codemirror_mode": {
    "name": "ipython",
    "version": 3
   },
   "file_extension": ".py",
   "mimetype": "text/x-python",
   "name": "python",
   "nbconvert_exporter": "python",
   "pygments_lexer": "ipython3",
   "version": "3.8.10"
  }
 },
 "nbformat": 4,
 "nbformat_minor": 5
}
