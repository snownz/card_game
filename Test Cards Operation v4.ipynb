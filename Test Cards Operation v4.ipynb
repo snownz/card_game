{
 "cells": [
  {
   "cell_type": "code",
   "execution_count": 1,
   "id": "a197a642",
   "metadata": {},
   "outputs": [
    {
     "name": "stdout",
     "output_type": "stream",
     "text": [
      "2 Physical GPUs, 2 Logical GPUs\n"
     ]
    },
    {
     "name": "stderr",
     "output_type": "stream",
     "text": [
      "2021-10-25 08:44:01.499748: I tensorflow/stream_executor/cuda/cuda_gpu_executor.cc:937] successful NUMA node read from SysFS had negative value (-1), but there must be at least one NUMA node, so returning NUMA node zero\n",
      "2021-10-25 08:44:01.501109: I tensorflow/stream_executor/cuda/cuda_gpu_executor.cc:937] successful NUMA node read from SysFS had negative value (-1), but there must be at least one NUMA node, so returning NUMA node zero\n",
      "2021-10-25 08:44:01.507708: I tensorflow/stream_executor/cuda/cuda_gpu_executor.cc:937] successful NUMA node read from SysFS had negative value (-1), but there must be at least one NUMA node, so returning NUMA node zero\n",
      "2021-10-25 08:44:01.509060: I tensorflow/stream_executor/cuda/cuda_gpu_executor.cc:937] successful NUMA node read from SysFS had negative value (-1), but there must be at least one NUMA node, so returning NUMA node zero\n",
      "2021-10-25 08:44:01.509791: I tensorflow/stream_executor/cuda/cuda_gpu_executor.cc:937] successful NUMA node read from SysFS had negative value (-1), but there must be at least one NUMA node, so returning NUMA node zero\n",
      "2021-10-25 08:44:01.510506: I tensorflow/stream_executor/cuda/cuda_gpu_executor.cc:937] successful NUMA node read from SysFS had negative value (-1), but there must be at least one NUMA node, so returning NUMA node zero\n",
      "2021-10-25 08:44:01.511501: I tensorflow/core/platform/cpu_feature_guard.cc:142] This TensorFlow binary is optimized with oneAPI Deep Neural Network Library (oneDNN) to use the following CPU instructions in performance-critical operations:  AVX2 FMA\n",
      "To enable them in other operations, rebuild TensorFlow with the appropriate compiler flags.\n",
      "2021-10-25 08:44:01.667942: I tensorflow/stream_executor/cuda/cuda_gpu_executor.cc:937] successful NUMA node read from SysFS had negative value (-1), but there must be at least one NUMA node, so returning NUMA node zero\n",
      "2021-10-25 08:44:01.668672: I tensorflow/stream_executor/cuda/cuda_gpu_executor.cc:937] successful NUMA node read from SysFS had negative value (-1), but there must be at least one NUMA node, so returning NUMA node zero\n",
      "2021-10-25 08:44:01.669077: I tensorflow/stream_executor/cuda/cuda_gpu_executor.cc:937] successful NUMA node read from SysFS had negative value (-1), but there must be at least one NUMA node, so returning NUMA node zero\n",
      "2021-10-25 08:44:01.669770: I tensorflow/stream_executor/cuda/cuda_gpu_executor.cc:937] successful NUMA node read from SysFS had negative value (-1), but there must be at least one NUMA node, so returning NUMA node zero\n",
      "2021-10-25 08:44:01.670163: I tensorflow/stream_executor/cuda/cuda_gpu_executor.cc:937] successful NUMA node read from SysFS had negative value (-1), but there must be at least one NUMA node, so returning NUMA node zero\n",
      "2021-10-25 08:44:01.670841: I tensorflow/stream_executor/cuda/cuda_gpu_executor.cc:937] successful NUMA node read from SysFS had negative value (-1), but there must be at least one NUMA node, so returning NUMA node zero\n",
      "2021-10-25 08:44:02.224399: I tensorflow/stream_executor/cuda/cuda_gpu_executor.cc:937] successful NUMA node read from SysFS had negative value (-1), but there must be at least one NUMA node, so returning NUMA node zero\n",
      "2021-10-25 08:44:02.225153: I tensorflow/stream_executor/cuda/cuda_gpu_executor.cc:937] successful NUMA node read from SysFS had negative value (-1), but there must be at least one NUMA node, so returning NUMA node zero\n",
      "2021-10-25 08:44:02.225566: I tensorflow/stream_executor/cuda/cuda_gpu_executor.cc:937] successful NUMA node read from SysFS had negative value (-1), but there must be at least one NUMA node, so returning NUMA node zero\n",
      "2021-10-25 08:44:02.226256: I tensorflow/stream_executor/cuda/cuda_gpu_executor.cc:937] successful NUMA node read from SysFS had negative value (-1), but there must be at least one NUMA node, so returning NUMA node zero\n",
      "2021-10-25 08:44:02.226654: I tensorflow/stream_executor/cuda/cuda_gpu_executor.cc:937] successful NUMA node read from SysFS had negative value (-1), but there must be at least one NUMA node, so returning NUMA node zero\n",
      "2021-10-25 08:44:02.227367: I tensorflow/core/common_runtime/gpu/gpu_device.cc:1510] Created device /job:localhost/replica:0/task:0/device:GPU:0 with 20920 MB memory:  -> device: 0, name: GeForce RTX 3090, pci bus id: 0000:09:00.0, compute capability: 8.6\n",
      "2021-10-25 08:44:02.227692: I tensorflow/stream_executor/cuda/cuda_gpu_executor.cc:937] successful NUMA node read from SysFS had negative value (-1), but there must be at least one NUMA node, so returning NUMA node zero\n",
      "2021-10-25 08:44:02.228130: I tensorflow/core/common_runtime/gpu/gpu_device.cc:1510] Created device /job:localhost/replica:0/task:0/device:GPU:1 with 6649 MB memory:  -> device: 1, name: GeForce RTX 2080 SUPER, pci bus id: 0000:08:00.0, compute capability: 7.5\n"
     ]
    }
   ],
   "source": [
    "import config_tf\n",
    "from dataset import CardsWarper\n",
    "from models import CardsEmbeding_v4\n",
    "import numpy as np\n",
    "import tensorflow as tf\n",
    "import matplotlib.pyplot as plt"
   ]
  },
  {
   "cell_type": "code",
   "execution_count": 2,
   "id": "4fb1cac9",
   "metadata": {},
   "outputs": [],
   "source": [
    "hand_size = 5\n",
    "max_repeat = 5\n",
    "\n",
    "embeding_size = 64\n",
    "num_blocks = 2\n",
    "num_heads = 2"
   ]
  },
  {
   "cell_type": "code",
   "execution_count": 3,
   "id": "b4092b15",
   "metadata": {},
   "outputs": [],
   "source": [
    "wp = CardsWarper( 'cards.json' )"
   ]
  },
  {
   "cell_type": "code",
   "execution_count": 4,
   "id": "93b96b84",
   "metadata": {},
   "outputs": [],
   "source": [
    "dec1 = np.array( [[ 1, 2, 3, 4, 5 ]] )\n",
    "dec2 = np.array( [[ 4, 6, 5, 8, 7 ]] )\n",
    "dec3 = np.array( [[ 1, 7, 8, 9, 10 ]] )\n",
    "dec4 = np.array( [[ 10, 11, 14, 14 ]] )\n",
    "dec5 = np.array( [[ 25, 28, 31 ]] )"
   ]
  },
  {
   "cell_type": "code",
   "execution_count": 5,
   "id": "c10b3bd8",
   "metadata": {
    "scrolled": true
   },
   "outputs": [
    {
     "name": "stdout",
     "output_type": "stream",
     "text": [
      "\n",
      "\n",
      "=========================================================================================\n",
      "\n",
      "Loading from: saved/test_v4_0\n",
      "\n",
      "=========================================================================================\n",
      "\n",
      "\n",
      "[[1 1 1 1 1]]\n",
      "[[1 1 1 1 1]]\n",
      "[[1 1 1 1 1]]\n",
      "[[1 1 1 1]]\n",
      "[[1 1 1]]\n"
     ]
    }
   ],
   "source": [
    "with tf.device('/device:CPU:0'):\n",
    "\n",
    "    model = model = CardsEmbeding_v4( 'test_v4_0', '/media/lucas/DADOS/saved/', \n",
    "                                      len(wp), embeding_size, hand_size, max_repeat, num_blocks, num_heads )\n",
    "    model.load_training( 'saved/', model.m_name )\n",
    "    \n",
    "    o1, _, m1 = model.isin_op( dec1 )\n",
    "    o2, _, m2 = model.isin_op( dec2 )\n",
    "    o3, _, m3 = model.isin_op( dec3 )\n",
    "    o4, _, m4 = model.isin_op( dec4 )\n",
    "    o5, _, m5 = model.isin_op( dec5 )\n",
    "\n",
    "    e1 = model.get_embeding( dec1 )[:,-1]\n",
    "    e2 = model.get_embeding( dec2 )[:,-1]\n",
    "    e3 = model.get_embeding( dec3 )[:,-1]\n",
    "    e4 = model.get_embeding( dec4 )[:,-1]\n",
    "    e5 = model.get_embeding( dec5 )[:,-1]\n",
    "    \n",
    "    print( np.argmax( o1, -1 )[0][-1][dec1] )\n",
    "    print( np.argmax( o2, -1 )[0][-1][dec2] )\n",
    "    print( np.argmax( o3, -1 )[0][-1][dec3] )\n",
    "    print( np.argmax( o4, -1 )[0][-1][dec4] )\n",
    "    print( np.argmax( o5, -1 )[0][-1][dec5] )"
   ]
  },
  {
   "cell_type": "code",
   "execution_count": 19,
   "id": "6350bf7f",
   "metadata": {},
   "outputs": [],
   "source": [
    "unuion       = lambda a, b: model.add_op( a, b )\n",
    "difference   = lambda a, b: model.sub_op( a, b )\n",
    "intersection = lambda a, b: model.mul_op( a, b )\n",
    "\n",
    "reconstruct  = lambda x: tf.argmax( model.reconstruct_sets( tf.expand_dims( x, 1 ) ), -1 )[0][-1].numpy()\n",
    "\n",
    "indexes = lambda r: np.where( r )[0].tolist()"
   ]
  },
  {
   "cell_type": "code",
   "execution_count": 21,
   "id": "6d87b999",
   "metadata": {
    "scrolled": true
   },
   "outputs": [
    {
     "name": "stdout",
     "output_type": "stream",
     "text": [
      "[1 2 3 4 5]\n",
      "[4 6 5 8 7]\n",
      "[ 1  7  8  9 10]\n",
      "[10 11 14 14]\n",
      "[25 28 31]\n",
      "[1, 2, 3, 4, 5, 6, 7, 8]\n"
     ]
    }
   ],
   "source": [
    "with tf.device('/device:CPU:0'):\n",
    "    \n",
    "    op = unuion( e1, e2 )\n",
    "    # op = unuion( e2, e1 )\n",
    "    # op = difference( e1, e2 )\n",
    "    # op = difference( e2, e1 )\n",
    "    # op = intersection( e1, e2 )\n",
    "    # op = intersection( e2, e1 )\n",
    "    \n",
    "    # op = unuion( difference( e3, e4 ), e1 )\n",
    "    # op = unuion( e1, difference( e3, e4 ) )\n",
    "    # op = difference( unuion( e3, e4 ), e1 )\n",
    "    # op = difference( e1, unuion( e3, e4 ) )\n",
    "    # op = difference( e1, difference( e2, e3 ) )\n",
    "    # op = difference( difference( e3, e4 ), e1 )\n",
    "    # op = difference( difference( e1, e2 ), e3 )\n",
    "    \n",
    "    # op = unuion( unuion( unuion( e1, e2 ), unuion( e5, e4 ) ), e3 )\n",
    "    \n",
    "    r = reconstruct( op )\n",
    "    \n",
    "print(dec1[0])\n",
    "print(dec2[0])\n",
    "print(dec3[0])\n",
    "print(dec4[0])\n",
    "print(dec5[0])\n",
    "print( indexes( r ) )"
   ]
  },
  {
   "cell_type": "code",
   "execution_count": 7,
   "id": "820bbedf",
   "metadata": {},
   "outputs": [
    {
     "data": {
      "text/plain": [
       "<matplotlib.image.AxesImage at 0x7f7f745587f0>"
      ]
     },
     "execution_count": 7,
     "metadata": {},
     "output_type": "execute_result"
    },
    {
     "data": {
      "image/png": "[encoded data removed]",
      "text/plain": [
       "<Figure size 720x720 with 4 Axes>"
      ]
     },
     "metadata": {
      "needs_background": "light"
     },
     "output_type": "display_data"
    }
   ],
   "source": [
    "m = m4[:,0,...]\n",
    "fig, axs = plt.subplots( 2, 2, figsize=( 10, 10 ) )\n",
    "\n",
    "axs[0,0].imshow( m[0,0], cmap='gray', interpolation='nearest' )\n",
    "axs[0,1].imshow( m[0,1], cmap='gray', interpolation='nearest' )\n",
    "axs[1,0].imshow( m[1,0], cmap='gray', interpolation='nearest' )\n",
    "axs[1,1].imshow( m[1,1], cmap='gray', interpolation='nearest' )"
   ]
  },
  {
   "cell_type": "code",
   "execution_count": null,
   "id": "0265561f",
   "metadata": {},
   "outputs": [],
   "source": []
  }
 ],
 "metadata": {
  "kernelspec": {
   "display_name": "Python 3 (ipykernel)",
   "language": "python",
   "name": "python3"
  },
  "language_info": {
   "codemirror_mode": {
    "name": "ipython",
    "version": 3
   },
   "file_extension": ".py",
   "mimetype": "text/x-python",
   "name": "python",
   "nbconvert_exporter": "python",
   "pygments_lexer": "ipython3",
   "version": "3.8.10"
  }
 },
 "nbformat": 4,
 "nbformat_minor": 5
}
