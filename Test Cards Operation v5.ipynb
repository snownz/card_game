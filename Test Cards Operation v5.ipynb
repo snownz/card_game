{
 "cells": [
  {
   "cell_type": "code",
   "execution_count": 1,
   "id": "a197a642",
   "metadata": {},
   "outputs": [
    {
     "name": "stderr",
     "output_type": "stream",
     "text": [
      "2021-10-25 16:41:49.588118: I tensorflow/stream_executor/cuda/cuda_gpu_executor.cc:937] successful NUMA node read from SysFS had negative value (-1), but there must be at least one NUMA node, so returning NUMA node zero\n",
      "2021-10-25 16:41:49.589531: I tensorflow/stream_executor/cuda/cuda_gpu_executor.cc:937] successful NUMA node read from SysFS had negative value (-1), but there must be at least one NUMA node, so returning NUMA node zero\n",
      "2021-10-25 16:41:49.594066: I tensorflow/stream_executor/cuda/cuda_gpu_executor.cc:937] successful NUMA node read from SysFS had negative value (-1), but there must be at least one NUMA node, so returning NUMA node zero\n",
      "2021-10-25 16:41:49.594958: I tensorflow/stream_executor/cuda/cuda_gpu_executor.cc:937] successful NUMA node read from SysFS had negative value (-1), but there must be at least one NUMA node, so returning NUMA node zero\n",
      "2021-10-25 16:41:49.595421: I tensorflow/stream_executor/cuda/cuda_gpu_executor.cc:937] successful NUMA node read from SysFS had negative value (-1), but there must be at least one NUMA node, so returning NUMA node zero\n",
      "2021-10-25 16:41:49.596172: I tensorflow/stream_executor/cuda/cuda_gpu_executor.cc:937] successful NUMA node read from SysFS had negative value (-1), but there must be at least one NUMA node, so returning NUMA node zero\n",
      "2021-10-25 16:41:49.597389: I tensorflow/core/platform/cpu_feature_guard.cc:142] This TensorFlow binary is optimized with oneAPI Deep Neural Network Library (oneDNN) to use the following CPU instructions in performance-critical operations:  AVX2 FMA\n",
      "To enable them in other operations, rebuild TensorFlow with the appropriate compiler flags.\n",
      "2021-10-25 16:41:49.751373: I tensorflow/stream_executor/cuda/cuda_gpu_executor.cc:937] successful NUMA node read from SysFS had negative value (-1), but there must be at least one NUMA node, so returning NUMA node zero\n",
      "2021-10-25 16:41:49.752088: I tensorflow/stream_executor/cuda/cuda_gpu_executor.cc:937] successful NUMA node read from SysFS had negative value (-1), but there must be at least one NUMA node, so returning NUMA node zero\n",
      "2021-10-25 16:41:49.752469: I tensorflow/stream_executor/cuda/cuda_gpu_executor.cc:937] successful NUMA node read from SysFS had negative value (-1), but there must be at least one NUMA node, so returning NUMA node zero\n",
      "2021-10-25 16:41:49.753135: I tensorflow/stream_executor/cuda/cuda_gpu_executor.cc:937] successful NUMA node read from SysFS had negative value (-1), but there must be at least one NUMA node, so returning NUMA node zero\n",
      "2021-10-25 16:41:49.753538: I tensorflow/stream_executor/cuda/cuda_gpu_executor.cc:937] successful NUMA node read from SysFS had negative value (-1), but there must be at least one NUMA node, so returning NUMA node zero\n",
      "2021-10-25 16:41:49.754245: I tensorflow/stream_executor/cuda/cuda_gpu_executor.cc:937] successful NUMA node read from SysFS had negative value (-1), but there must be at least one NUMA node, so returning NUMA node zero\n",
      "2021-10-25 16:41:50.317161: I tensorflow/stream_executor/cuda/cuda_gpu_executor.cc:937] successful NUMA node read from SysFS had negative value (-1), but there must be at least one NUMA node, so returning NUMA node zero\n",
      "2021-10-25 16:41:50.317946: I tensorflow/stream_executor/cuda/cuda_gpu_executor.cc:937] successful NUMA node read from SysFS had negative value (-1), but there must be at least one NUMA node, so returning NUMA node zero\n",
      "2021-10-25 16:41:50.318359: I tensorflow/stream_executor/cuda/cuda_gpu_executor.cc:937] successful NUMA node read from SysFS had negative value (-1), but there must be at least one NUMA node, so returning NUMA node zero\n",
      "2021-10-25 16:41:50.319078: I tensorflow/stream_executor/cuda/cuda_gpu_executor.cc:937] successful NUMA node read from SysFS had negative value (-1), but there must be at least one NUMA node, so returning NUMA node zero\n",
      "2021-10-25 16:41:50.319513: I tensorflow/stream_executor/cuda/cuda_gpu_executor.cc:937] successful NUMA node read from SysFS had negative value (-1), but there must be at least one NUMA node, so returning NUMA node zero\n",
      "2021-10-25 16:41:50.320219: I tensorflow/core/common_runtime/gpu/gpu_device.cc:1510] Created device /job:localhost/replica:0/task:0/device:GPU:0 with 20148 MB memory:  -> device: 0, name: GeForce RTX 3090, pci bus id: 0000:09:00.0, compute capability: 8.6\n",
      "2021-10-25 16:41:50.320527: I tensorflow/stream_executor/cuda/cuda_gpu_executor.cc:937] successful NUMA node read from SysFS had negative value (-1), but there must be at least one NUMA node, so returning NUMA node zero\n",
      "2021-10-25 16:41:50.320933: I tensorflow/core/common_runtime/gpu/gpu_device.cc:1510] Created device /job:localhost/replica:0/task:0/device:GPU:1 with 6380 MB memory:  -> device: 1, name: GeForce RTX 2080 SUPER, pci bus id: 0000:08:00.0, compute capability: 7.5\n"
     ]
    },
    {
     "name": "stdout",
     "output_type": "stream",
     "text": [
      "2 Physical GPUs, 2 Logical GPUs\n"
     ]
    }
   ],
   "source": [
    "import config_tf\n",
    "from dataset import CardsWarper\n",
    "from models import CardsEmbeding_v5\n",
    "import numpy as np\n",
    "import tensorflow as tf\n",
    "import matplotlib.pyplot as plt\n",
    "np.set_printoptions(precision=4, suppress=True)"
   ]
  },
  {
   "cell_type": "code",
   "execution_count": 2,
   "id": "4fb1cac9",
   "metadata": {},
   "outputs": [],
   "source": [
    "hand_size = 5\n",
    "max_repeat = 5\n",
    "\n",
    "embeding_size = 64\n",
    "num_blocks = 2\n",
    "num_heads = 2"
   ]
  },
  {
   "cell_type": "code",
   "execution_count": 3,
   "id": "b4092b15",
   "metadata": {},
   "outputs": [],
   "source": [
    "wp = CardsWarper( 'cards.json' )"
   ]
  },
  {
   "cell_type": "code",
   "execution_count": 4,
   "id": "93b96b84",
   "metadata": {},
   "outputs": [],
   "source": [
    "dec0 = ( np.random.uniform( 0, 1, [ 1, 164 ] ) * 53 ).astype(np.int32)\n",
    "dec1 = np.array( [[ 1, 2, 3, 4, 5 ]] )\n",
    "dec2 = np.array( [[ 4, 6, 5, 8, 7 ]] )\n",
    "dec3 = np.array( [[ 1, 7, 8, 9, 10 ]] )\n",
    "dec4 = np.array( [[ 10, 11, 14, 14 ]] )\n",
    "dec5 = np.array( [[ 25, 28, 31 ]] )"
   ]
  },
  {
   "cell_type": "code",
   "execution_count": 5,
   "id": "c10b3bd8",
   "metadata": {
    "scrolled": true
   },
   "outputs": [
    {
     "name": "stdout",
     "output_type": "stream",
     "text": [
      "\n",
      "\n",
      "=========================================================================================\n",
      "\n",
      "Loading from: saved/test_v5_0 ckp - 99900\n",
      "\n",
      "=========================================================================================\n",
      "\n",
      "\n"
     ]
    }
   ],
   "source": [
    "with tf.device('/device:CPU:0'):\n",
    "\n",
    "    model = model = CardsEmbeding_v5( 'test_v5_0', '/media/lucas/DADOS/saved/', \n",
    "                                      len(wp), embeding_size, hand_size, max_repeat, num_blocks, num_heads )\n",
    "    model.load_training( 'saved/', model.m_name )\n",
    "    \n",
    "    o0, _, m0, freq0 = model.isin_op( dec0 )\n",
    "    o1, _, m1, freq1 = model.isin_op( dec1 )\n",
    "    o2, _, m2, freq2 = model.isin_op( dec2 )\n",
    "    o3, _, m3, freq3 = model.isin_op( dec3 )\n",
    "    o4, _, m4, freq4 = model.isin_op( dec4 )\n",
    "    o5, _, m5, freq5 = model.isin_op( dec5 )\n"
   ]
  },
  {
   "cell_type": "code",
   "execution_count": 11,
   "id": "35077c86",
   "metadata": {},
   "outputs": [],
   "source": [
    "p_counts = lambda vl: [ 'n:{} - c:{}'.format(a,b) for a, b in \n",
    "        zip( np.unique(vl[0], return_counts=True)[0], np.unique(vl[0], return_counts=True)[1] ) ]\n",
    "\n",
    "indexes = lambda r: np.where( r > 0.7 )[0].tolist()\n",
    "round_values = lambda r: [ int(x) if x - int(x) < 0.4 else int(x)+1 for x in r[ np.where( r > 0.7 ) ] ]"
   ]
  },
  {
   "cell_type": "code",
   "execution_count": 13,
   "id": "e42ee44e",
   "metadata": {},
   "outputs": [
    {
     "name": "stdout",
     "output_type": "stream",
     "text": [
      "=====================\n",
      "[1 2 3 4 5]\n",
      "[4 6 5 8 7]\n",
      "[ 1  7  8  9 10]\n",
      "[10 11 14 14]\n",
      "[25 28 31]\n",
      "=====================\n",
      "[10, 11, 14]\n",
      "[1, 1, 2]\n",
      "[0.     0.     0.     0.     0.     0.     0.     0.     0.     0.\n",
      " 0.8016 0.8433 0.     0.     1.7911 0.     0.     0.     0.     0.\n",
      " 0.     0.     0.0246 0.     0.     0.     0.     0.     0.     0.\n",
      " 0.     0.     0.     0.     0.     0.     0.     0.     0.0981 0.\n",
      " 0.     0.     0.     0.     0.     0.     0.     0.     0.     0.\n",
      " 0.     0.     0.    ]\n"
     ]
    }
   ],
   "source": [
    "r = freq4[0,-1].numpy()\n",
    "\n",
    "print(\"=====================\")\n",
    "print( dec1[0] )\n",
    "print( dec2[0] )\n",
    "print( dec3[0] )\n",
    "print( dec4[0] )\n",
    "print( dec5[0] )\n",
    "print(\"=====================\")\n",
    "print( indexes( r ) )\n",
    "print( round_values( r ) )\n",
    "print( r )"
   ]
  },
  {
   "cell_type": "code",
   "execution_count": 14,
   "id": "0d34c099",
   "metadata": {},
   "outputs": [
    {
     "name": "stdout",
     "output_type": "stream",
     "text": [
      "=====================\n",
      "['n:0 - c:4', 'n:1 - c:5', 'n:2 - c:1', 'n:3 - c:3', 'n:4 - c:7', 'n:5 - c:4', 'n:6 - c:5', 'n:7 - c:2', 'n:8 - c:9', 'n:9 - c:2', 'n:10 - c:3', 'n:11 - c:2', 'n:12 - c:1', 'n:13 - c:4', 'n:14 - c:4', 'n:15 - c:2', 'n:16 - c:4', 'n:17 - c:4', 'n:18 - c:3', 'n:19 - c:1', 'n:20 - c:5', 'n:21 - c:1', 'n:22 - c:3', 'n:23 - c:5', 'n:24 - c:3', 'n:25 - c:2', 'n:26 - c:3', 'n:27 - c:4', 'n:29 - c:3', 'n:30 - c:2', 'n:31 - c:2', 'n:33 - c:3', 'n:34 - c:7', 'n:35 - c:4', 'n:36 - c:3', 'n:37 - c:3', 'n:38 - c:3', 'n:39 - c:3', 'n:40 - c:3', 'n:41 - c:4', 'n:42 - c:5', 'n:43 - c:4', 'n:44 - c:3', 'n:45 - c:2', 'n:46 - c:3', 'n:47 - c:2', 'n:48 - c:3', 'n:50 - c:1', 'n:51 - c:2', 'n:52 - c:3']\n",
      "=====================\n",
      "[0, 1, 3, 4, 5, 6, 7, 8, 9, 10, 11, 13, 14, 15, 16, 17, 18, 19, 20, 21, 22, 23, 24, 25, 26, 27, 29, 30, 31, 33, 34, 35, 36, 37, 38, 39, 40, 41, 42, 43, 44, 45, 46, 47, 48, 51, 52]\n",
      "=====================\n",
      "[3, 4, 2, 5, 3, 4, 1, 6, 1, 2, 2, 3, 3, 1, 3, 3, 2, 1, 3, 1, 2, 4, 2, 2, 2, 3, 2, 2, 1, 2, 4, 3, 2, 2, 2, 2, 2, 3, 4, 3, 2, 2, 2, 1, 2, 1, 2]\n",
      "=====================\n",
      "[2.7405 3.5288 0.5968 2.143  4.8316 2.7781 3.4574 1.2662 6.0186 1.3676\n",
      " 2.1851 1.4956 0.4124 2.6538 2.7811 1.2729 2.9247 2.6527 2.0799 0.7428\n",
      " 3.3209 0.7411 2.0145 3.4329 2.1449 1.4442 1.9953 2.6464 0.     1.9153\n",
      " 1.437  1.2303 0.     1.9502 4.2733 2.7841 2.3349 2.1196 2.0158 2.0909\n",
      " 2.0547 2.6648 3.4203 3.1884 2.0997 1.4224 2.057  1.3204 2.1686 0.\n",
      " 0.6119 1.3566 2.0547]\n"
     ]
    }
   ],
   "source": [
    "r = freq0[0,-1].numpy()\n",
    "\n",
    "print(\"=====================\")\n",
    "print( p_counts( dec0 ) )\n",
    "print(\"=====================\")\n",
    "print( indexes( r ) )\n",
    "print(\"=====================\")\n",
    "print( round_values( r ) )\n",
    "print(\"=====================\")\n",
    "print( r )"
   ]
  },
  {
   "cell_type": "code",
   "execution_count": null,
   "id": "221c150a",
   "metadata": {},
   "outputs": [],
   "source": [
    "m = m0[:,0,...]\n",
    "fig, axs = plt.subplots( 2, 2, figsize=( 20, 20 ) )\n",
    "\n",
    "axs[0,0].imshow( m[0,0], cmap='gray', interpolation='nearest' )\n",
    "axs[0,1].imshow( m[0,1], cmap='gray', interpolation='nearest' )\n",
    "axs[1,0].imshow( m[1,0], cmap='gray', interpolation='nearest' )\n",
    "axs[1,1].imshow( m[1,1], cmap='gray', interpolation='nearest' )"
   ]
  },
  {
   "cell_type": "code",
   "execution_count": null,
   "id": "265145fd",
   "metadata": {},
   "outputs": [],
   "source": []
  }
 ],
 "metadata": {
  "kernelspec": {
   "display_name": "Python 3 (ipykernel)",
   "language": "python",
   "name": "python3"
  },
  "language_info": {
   "codemirror_mode": {
    "name": "ipython",
    "version": 3
   },
   "file_extension": ".py",
   "mimetype": "text/x-python",
   "name": "python",
   "nbconvert_exporter": "python",
   "pygments_lexer": "ipython3",
   "version": "3.8.10"
  }
 },
 "nbformat": 4,
 "nbformat_minor": 5
}
