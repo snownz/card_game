{
 "cells": [
  {
   "cell_type": "code",
   "execution_count": 1,
   "id": "a197a642",
   "metadata": {},
   "outputs": [
    {
     "name": "stderr",
     "output_type": "stream",
     "text": [
      "2021-10-25 17:26:30.767020: I tensorflow/stream_executor/cuda/cuda_gpu_executor.cc:937] successful NUMA node read from SysFS had negative value (-1), but there must be at least one NUMA node, so returning NUMA node zero\n",
      "2021-10-25 17:26:30.767766: I tensorflow/stream_executor/cuda/cuda_gpu_executor.cc:937] successful NUMA node read from SysFS had negative value (-1), but there must be at least one NUMA node, so returning NUMA node zero\n",
      "2021-10-25 17:26:30.771648: I tensorflow/stream_executor/cuda/cuda_gpu_executor.cc:937] successful NUMA node read from SysFS had negative value (-1), but there must be at least one NUMA node, so returning NUMA node zero\n",
      "2021-10-25 17:26:30.772392: I tensorflow/stream_executor/cuda/cuda_gpu_executor.cc:937] successful NUMA node read from SysFS had negative value (-1), but there must be at least one NUMA node, so returning NUMA node zero\n",
      "2021-10-25 17:26:30.772721: I tensorflow/stream_executor/cuda/cuda_gpu_executor.cc:937] successful NUMA node read from SysFS had negative value (-1), but there must be at least one NUMA node, so returning NUMA node zero\n",
      "2021-10-25 17:26:30.773444: I tensorflow/stream_executor/cuda/cuda_gpu_executor.cc:937] successful NUMA node read from SysFS had negative value (-1), but there must be at least one NUMA node, so returning NUMA node zero\n",
      "2021-10-25 17:26:30.774367: I tensorflow/core/platform/cpu_feature_guard.cc:142] This TensorFlow binary is optimized with oneAPI Deep Neural Network Library (oneDNN) to use the following CPU instructions in performance-critical operations:  AVX2 FMA\n",
      "To enable them in other operations, rebuild TensorFlow with the appropriate compiler flags.\n",
      "2021-10-25 17:26:30.915448: I tensorflow/stream_executor/cuda/cuda_gpu_executor.cc:937] successful NUMA node read from SysFS had negative value (-1), but there must be at least one NUMA node, so returning NUMA node zero\n",
      "2021-10-25 17:26:30.916732: I tensorflow/stream_executor/cuda/cuda_gpu_executor.cc:937] successful NUMA node read from SysFS had negative value (-1), but there must be at least one NUMA node, so returning NUMA node zero\n",
      "2021-10-25 17:26:30.917223: I tensorflow/stream_executor/cuda/cuda_gpu_executor.cc:937] successful NUMA node read from SysFS had negative value (-1), but there must be at least one NUMA node, so returning NUMA node zero\n",
      "2021-10-25 17:26:30.918521: I tensorflow/stream_executor/cuda/cuda_gpu_executor.cc:937] successful NUMA node read from SysFS had negative value (-1), but there must be at least one NUMA node, so returning NUMA node zero\n",
      "2021-10-25 17:26:30.919051: I tensorflow/stream_executor/cuda/cuda_gpu_executor.cc:937] successful NUMA node read from SysFS had negative value (-1), but there must be at least one NUMA node, so returning NUMA node zero\n",
      "2021-10-25 17:26:30.920399: I tensorflow/stream_executor/cuda/cuda_gpu_executor.cc:937] successful NUMA node read from SysFS had negative value (-1), but there must be at least one NUMA node, so returning NUMA node zero\n",
      "2021-10-25 17:26:31.656420: I tensorflow/stream_executor/cuda/cuda_gpu_executor.cc:937] successful NUMA node read from SysFS had negative value (-1), but there must be at least one NUMA node, so returning NUMA node zero\n",
      "2021-10-25 17:26:31.657201: I tensorflow/stream_executor/cuda/cuda_gpu_executor.cc:937] successful NUMA node read from SysFS had negative value (-1), but there must be at least one NUMA node, so returning NUMA node zero\n",
      "2021-10-25 17:26:31.657538: I tensorflow/stream_executor/cuda/cuda_gpu_executor.cc:937] successful NUMA node read from SysFS had negative value (-1), but there must be at least one NUMA node, so returning NUMA node zero\n",
      "2021-10-25 17:26:31.658242: I tensorflow/stream_executor/cuda/cuda_gpu_executor.cc:937] successful NUMA node read from SysFS had negative value (-1), but there must be at least one NUMA node, so returning NUMA node zero\n",
      "2021-10-25 17:26:31.658567: I tensorflow/stream_executor/cuda/cuda_gpu_executor.cc:937] successful NUMA node read from SysFS had negative value (-1), but there must be at least one NUMA node, so returning NUMA node zero\n",
      "2021-10-25 17:26:31.659271: I tensorflow/core/common_runtime/gpu/gpu_device.cc:1510] Created device /job:localhost/replica:0/task:0/device:GPU:0 with 19860 MB memory:  -> device: 0, name: GeForce RTX 3090, pci bus id: 0000:09:00.0, compute capability: 8.6\n",
      "2021-10-25 17:26:31.659615: I tensorflow/stream_executor/cuda/cuda_gpu_executor.cc:937] successful NUMA node read from SysFS had negative value (-1), but there must be at least one NUMA node, so returning NUMA node zero\n",
      "2021-10-25 17:26:31.659932: I tensorflow/core/common_runtime/gpu/gpu_device.cc:1510] Created device /job:localhost/replica:0/task:0/device:GPU:1 with 1847 MB memory:  -> device: 1, name: GeForce RTX 2080 SUPER, pci bus id: 0000:08:00.0, compute capability: 7.5\n"
     ]
    },
    {
     "name": "stdout",
     "output_type": "stream",
     "text": [
      "2 Physical GPUs, 2 Logical GPUs\n"
     ]
    }
   ],
   "source": [
    "import config_tf\n",
    "from dataset import CardsWarper\n",
    "from models import CardsEmbeding_v5\n",
    "import numpy as np\n",
    "import tensorflow as tf\n",
    "import matplotlib.pyplot as plt\n",
    "np.set_printoptions(precision=4, suppress=True)"
   ]
  },
  {
   "cell_type": "code",
   "execution_count": 2,
   "id": "4fb1cac9",
   "metadata": {},
   "outputs": [],
   "source": [
    "hand_size = 5\n",
    "max_repeat = 5\n",
    "\n",
    "embeding_size = 64\n",
    "num_blocks = 2\n",
    "num_heads = 2"
   ]
  },
  {
   "cell_type": "code",
   "execution_count": 3,
   "id": "b4092b15",
   "metadata": {},
   "outputs": [],
   "source": [
    "wp = CardsWarper( 'cards.json' )"
   ]
  },
  {
   "cell_type": "code",
   "execution_count": 20,
   "id": "93b96b84",
   "metadata": {},
   "outputs": [],
   "source": [
    "dec0 = ( np.random.uniform( 0, 1, [ 1, 164 ] ) * 53 ).astype(np.int32)\n",
    "dec1 = np.array( [[ 1, 2, 3, 4, 5 ]] )\n",
    "dec1a = np.array( [[ 3, 2, 5, 4, 1 ]] )\n",
    "dec2 = np.array( [[ 4, 6, 5, 8, 7 ]] )\n",
    "dec3 = np.array( [[ 1, 7, 8, 9, 10 ]] )\n",
    "dec4 = np.array( [[ 10, 11, 14, 14 ]] )\n",
    "dec5 = np.array( [[ 25, 28, 31 ]] )"
   ]
  },
  {
   "cell_type": "code",
   "execution_count": 5,
   "id": "c10b3bd8",
   "metadata": {
    "scrolled": true
   },
   "outputs": [
    {
     "name": "stdout",
     "output_type": "stream",
     "text": [
      "\n",
      "\n",
      "=========================================================================================\n",
      "\n",
      "Loading from: saved/test_v5_0 ckp - 99900\n",
      "\n",
      "=========================================================================================\n",
      "\n",
      "\n"
     ]
    }
   ],
   "source": [
    "with tf.device('/device:CPU:0'):\n",
    "\n",
    "    model = model = CardsEmbeding_v5( 'test_v5_0', '/media/lucas/DADOS/saved/', \n",
    "                                      len(wp), embeding_size, hand_size, max_repeat, num_blocks, num_heads )\n",
    "    model.load_training( 'saved/', model.m_name )\n",
    "    \n",
    "    o0, _, m0, freq0 = model.isin_op( dec0 )\n",
    "    o1, _, m1, freq1 = model.isin_op( dec1 )\n",
    "    o2, _, m2, freq2 = model.isin_op( dec2 )\n",
    "    o3, _, m3, freq3 = model.isin_op( dec3 )\n",
    "    o4, _, m4, freq4 = model.isin_op( dec4 )\n",
    "    o5, _, m5, freq5 = model.isin_op( dec5 )\n"
   ]
  },
  {
   "cell_type": "code",
   "execution_count": 6,
   "id": "97f9d727",
   "metadata": {},
   "outputs": [],
   "source": [
    "p_counts = lambda vl: [ 'n:{} - c:{}'.format(a,b) for a, b in \n",
    "        zip( np.unique(vl[0], return_counts=True)[0], np.unique(vl[0], return_counts=True)[1] ) ]\n",
    "\n",
    "indexes = lambda r: np.where( r > 0.7 )[0].tolist()\n",
    "round_values = lambda r: [ int(x) if x - int(x) < 0.4 else int(x)+1 for x in r[ np.where( r > 0.7 ) ] ]"
   ]
  },
  {
   "cell_type": "code",
   "execution_count": 17,
   "id": "e42ee44e",
   "metadata": {},
   "outputs": [
    {
     "name": "stdout",
     "output_type": "stream",
     "text": [
      "=====================\n",
      "[1 2 3 4 5]\n",
      "[4 6 5 8 7]\n",
      "[ 1  7  8  9 10]\n",
      "[10 11 14 14]\n",
      "[25 28 31]\n",
      "=====================\n",
      "[25, 28, 31]\n",
      "[1, 1, 1]\n",
      "[0.     0.     0.     0.     0.     0.     0.     0.     0.     0.\n",
      " 0.     0.     0.     0.     0.     0.     0.     0.     0.     0.\n",
      " 0.     0.     0.     0.     0.     0.9937 0.     0.     1.0253 0.\n",
      " 0.     1.0944 0.     0.     0.     0.     0.     0.     0.     0.\n",
      " 0.     0.     0.     0.     0.     0.     0.     0.     0.     0.\n",
      " 0.     0.     0.    ]\n"
     ]
    }
   ],
   "source": [
    "r = freq5[0,-1].numpy()\n",
    "\n",
    "print(\"=====================\")\n",
    "print( dec1[0] )\n",
    "print( dec2[0] )\n",
    "print( dec3[0] )\n",
    "print( dec4[0] )\n",
    "print( dec5[0] )\n",
    "print(\"=====================\")\n",
    "print( indexes( r ) )\n",
    "print( round_values( r ) )\n",
    "print( r )"
   ]
  },
  {
   "cell_type": "code",
   "execution_count": null,
   "id": "9d518121",
   "metadata": {},
   "outputs": [],
   "source": [
    "r = freq0[0,-1].numpy()\n",
    "\n",
    "print(\"=====================\")\n",
    "print( p_counts( dec0 ) )\n",
    "print(\"=====================\")\n",
    "print( indexes( r ) )\n",
    "print(\"=====================\")\n",
    "print( round_values( r ) )\n",
    "print(\"=====================\")\n",
    "print( r )"
   ]
  },
  {
   "cell_type": "code",
   "execution_count": null,
   "id": "75429811",
   "metadata": {},
   "outputs": [],
   "source": [
    "m = m0[:,0,...]\n",
    "fig, axs = plt.subplots( 2, 2, figsize=( 20, 20 ) )\n",
    "\n",
    "axs[0,0].imshow( m[0,0], cmap='gray', interpolation='nearest' )\n",
    "axs[0,1].imshow( m[0,1], cmap='gray', interpolation='nearest' )\n",
    "axs[1,0].imshow( m[1,0], cmap='gray', interpolation='nearest' )\n",
    "axs[1,1].imshow( m[1,1], cmap='gray', interpolation='nearest' )"
   ]
  },
  {
   "cell_type": "code",
   "execution_count": 15,
   "id": "78d307df",
   "metadata": {},
   "outputs": [
    {
     "data": {
      "text/plain": [
       "array([ -0.1739,  -8.8498,  -0.4601,  -0.3166,  -3.5017,   0.7583,\n",
       "        -0.3367,   0.2276,   0.2976,  -1.4234,   0.5104,   0.1886,\n",
       "        -0.0624,   0.0662,   2.3251, -23.7114,   0.5758,  -0.696 ,\n",
       "         0.4684,   3.62  ,   0.2133,  -1.2574,   0.0342,  -0.8283,\n",
       "         0.0582,  -9.2995,   0.4232,   1.0232,   0.254 ,   1.2774,\n",
       "         0.8122,   0.3428,  15.589 ,  -0.3702,   0.4407,  -0.0486,\n",
       "        -0.0278,  -0.146 ,  -1.5413,  -0.9049,  -0.6174,  -0.0666,\n",
       "         0.2712,   0.0611,  -0.6579,   0.5815,   0.3724,  -0.063 ,\n",
       "         0.1848,   0.1758,  -0.9264,   0.4893,  -0.0676,  -0.5105,\n",
       "         0.0996,   0.2089,   0.3239,  -0.057 ,  -0.1876,  -0.1969,\n",
       "         0.3996,  -0.3297,  -0.3387,  -0.4566], dtype=float32)"
      ]
     },
     "execution_count": 15,
     "metadata": {},
     "output_type": "execute_result"
    }
   ],
   "source": [
    "model.get_embeding( dec1 )[1][0,-1].numpy()"
   ]
  },
  {
   "cell_type": "code",
   "execution_count": 21,
   "id": "47c1c5c9",
   "metadata": {},
   "outputs": [
    {
     "data": {
      "text/plain": [
       "array([ -0.1558,  -8.6301,  -0.4704,  -0.2827,  -3.6201,   0.72  ,\n",
       "        -0.3163,   0.2873,   0.292 ,  -1.3948,   0.5231,   0.1593,\n",
       "        -0.0405,   0.0844,   2.3949, -23.4167,   0.5535,  -0.7221,\n",
       "         0.4694,   3.5262,   0.2168,  -1.2338,   0.0516,  -0.8099,\n",
       "         0.0553,  -9.642 ,   0.4304,   1.0484,   0.2744,   1.2447,\n",
       "         0.8211,   0.3409,  15.2881,  -0.3164,   0.4234,  -0.0292,\n",
       "        -0.0177,  -0.1525,  -1.5107,  -0.8664,  -0.628 ,  -0.0749,\n",
       "         0.2804,   0.0852,  -0.6615,   0.5596,   0.371 ,  -0.0487,\n",
       "         0.1787,   0.153 ,  -0.9491,   0.5215,  -0.0547,  -0.5019,\n",
       "         0.1021,   0.1951,   0.6032,   0.1545,  -0.1637,  -0.2166,\n",
       "         0.4303,  -0.3482,  -0.3383,  -0.4457], dtype=float32)"
      ]
     },
     "execution_count": 21,
     "metadata": {},
     "output_type": "execute_result"
    }
   ],
   "source": [
    "model.get_embeding( dec1a )[1][0,-1].numpy()"
   ]
  }
 ],
 "metadata": {
  "kernelspec": {
   "display_name": "Python 3 (ipykernel)",
   "language": "python",
   "name": "python3"
  },
  "language_info": {
   "codemirror_mode": {
    "name": "ipython",
    "version": 3
   },
   "file_extension": ".py",
   "mimetype": "text/x-python",
   "name": "python",
   "nbconvert_exporter": "python",
   "pygments_lexer": "ipython3",
   "version": "3.8.10"
  }
 },
 "nbformat": 4,
 "nbformat_minor": 5
}
