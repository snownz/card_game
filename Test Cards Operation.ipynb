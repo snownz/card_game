{
 "cells": [
  {
   "cell_type": "code",
   "execution_count": 1,
   "id": "a197a642",
   "metadata": {
    "collapsed": true
   },
   "outputs": [
    {
     "name": "stdout",
     "output_type": "stream",
     "text": [
      "2 Physical GPUs, 2 Logical GPUs\n"
     ]
    },
    {
     "name": "stderr",
     "output_type": "stream",
     "text": [
      "2021-10-20 13:08:40.536380: I tensorflow/stream_executor/cuda/cuda_gpu_executor.cc:937] successful NUMA node read from SysFS had negative value (-1), but there must be at least one NUMA node, so returning NUMA node zero\n",
      "2021-10-20 13:08:40.537715: I tensorflow/stream_executor/cuda/cuda_gpu_executor.cc:937] successful NUMA node read from SysFS had negative value (-1), but there must be at least one NUMA node, so returning NUMA node zero\n",
      "2021-10-20 13:08:40.543524: I tensorflow/stream_executor/cuda/cuda_gpu_executor.cc:937] successful NUMA node read from SysFS had negative value (-1), but there must be at least one NUMA node, so returning NUMA node zero\n",
      "2021-10-20 13:08:40.544657: I tensorflow/stream_executor/cuda/cuda_gpu_executor.cc:937] successful NUMA node read from SysFS had negative value (-1), but there must be at least one NUMA node, so returning NUMA node zero\n",
      "2021-10-20 13:08:40.545414: I tensorflow/stream_executor/cuda/cuda_gpu_executor.cc:937] successful NUMA node read from SysFS had negative value (-1), but there must be at least one NUMA node, so returning NUMA node zero\n",
      "2021-10-20 13:08:40.546503: I tensorflow/stream_executor/cuda/cuda_gpu_executor.cc:937] successful NUMA node read from SysFS had negative value (-1), but there must be at least one NUMA node, so returning NUMA node zero\n",
      "2021-10-20 13:08:40.547651: I tensorflow/core/platform/cpu_feature_guard.cc:142] This TensorFlow binary is optimized with oneAPI Deep Neural Network Library (oneDNN) to use the following CPU instructions in performance-critical operations:  AVX2 FMA\n",
      "To enable them in other operations, rebuild TensorFlow with the appropriate compiler flags.\n",
      "2021-10-20 13:08:40.673551: I tensorflow/stream_executor/cuda/cuda_gpu_executor.cc:937] successful NUMA node read from SysFS had negative value (-1), but there must be at least one NUMA node, so returning NUMA node zero\n",
      "2021-10-20 13:08:40.674218: I tensorflow/stream_executor/cuda/cuda_gpu_executor.cc:937] successful NUMA node read from SysFS had negative value (-1), but there must be at least one NUMA node, so returning NUMA node zero\n",
      "2021-10-20 13:08:40.674611: I tensorflow/stream_executor/cuda/cuda_gpu_executor.cc:937] successful NUMA node read from SysFS had negative value (-1), but there must be at least one NUMA node, so returning NUMA node zero\n",
      "2021-10-20 13:08:40.675268: I tensorflow/stream_executor/cuda/cuda_gpu_executor.cc:937] successful NUMA node read from SysFS had negative value (-1), but there must be at least one NUMA node, so returning NUMA node zero\n",
      "2021-10-20 13:08:40.675669: I tensorflow/stream_executor/cuda/cuda_gpu_executor.cc:937] successful NUMA node read from SysFS had negative value (-1), but there must be at least one NUMA node, so returning NUMA node zero\n",
      "2021-10-20 13:08:40.676336: I tensorflow/stream_executor/cuda/cuda_gpu_executor.cc:937] successful NUMA node read from SysFS had negative value (-1), but there must be at least one NUMA node, so returning NUMA node zero\n",
      "2021-10-20 13:08:41.257088: I tensorflow/stream_executor/cuda/cuda_gpu_executor.cc:937] successful NUMA node read from SysFS had negative value (-1), but there must be at least one NUMA node, so returning NUMA node zero\n",
      "2021-10-20 13:08:41.257845: I tensorflow/stream_executor/cuda/cuda_gpu_executor.cc:937] successful NUMA node read from SysFS had negative value (-1), but there must be at least one NUMA node, so returning NUMA node zero\n",
      "2021-10-20 13:08:41.258257: I tensorflow/stream_executor/cuda/cuda_gpu_executor.cc:937] successful NUMA node read from SysFS had negative value (-1), but there must be at least one NUMA node, so returning NUMA node zero\n",
      "2021-10-20 13:08:41.258928: I tensorflow/stream_executor/cuda/cuda_gpu_executor.cc:937] successful NUMA node read from SysFS had negative value (-1), but there must be at least one NUMA node, so returning NUMA node zero\n",
      "2021-10-20 13:08:41.259334: I tensorflow/stream_executor/cuda/cuda_gpu_executor.cc:937] successful NUMA node read from SysFS had negative value (-1), but there must be at least one NUMA node, so returning NUMA node zero\n",
      "2021-10-20 13:08:41.259999: I tensorflow/core/common_runtime/gpu/gpu_device.cc:1510] Created device /job:localhost/replica:0/task:0/device:GPU:0 with 18038 MB memory:  -> device: 0, name: GeForce RTX 3090, pci bus id: 0000:09:00.0, compute capability: 8.6\n",
      "2021-10-20 13:08:41.260308: I tensorflow/stream_executor/cuda/cuda_gpu_executor.cc:937] successful NUMA node read from SysFS had negative value (-1), but there must be at least one NUMA node, so returning NUMA node zero\n",
      "2021-10-20 13:08:41.260708: I tensorflow/core/common_runtime/gpu/gpu_device.cc:1510] Created device /job:localhost/replica:0/task:0/device:GPU:1 with 6380 MB memory:  -> device: 1, name: GeForce RTX 2080 SUPER, pci bus id: 0000:08:00.0, compute capability: 7.5\n"
     ]
    }
   ],
   "source": [
    "import config_tf\n",
    "from dataset import CardsWarper\n",
    "from models import CardsEmbeding\n",
    "import numpy as np\n",
    "import tensorflow as tf"
   ]
  },
  {
   "cell_type": "code",
   "execution_count": 2,
   "id": "4fb1cac9",
   "metadata": {},
   "outputs": [],
   "source": [
    "hand_size = 6\n",
    "max_repeat = 5\n",
    "embeding_size = 32\n",
    "num_blocks = 4\n",
    "num_heads = 4"
   ]
  },
  {
   "cell_type": "code",
   "execution_count": 3,
   "id": "b4092b15",
   "metadata": {},
   "outputs": [],
   "source": [
    "wp = CardsWarper( 'cards.json' )"
   ]
  },
  {
   "cell_type": "code",
   "execution_count": 10,
   "id": "93b96b84",
   "metadata": {},
   "outputs": [],
   "source": [
    "dec1 = ( np.random.uniform( 0, 1, [ 1, hand_size ] ) * ( len( wp ) ) ).astype( np.int32 )\n",
    "dec2 = ( np.random.uniform( 0, 1, [ 1, hand_size ] ) * ( len( wp ) ) ).astype( np.int32 )\n",
    "dec3 = ( np.random.uniform( 0, 1, [ 1, hand_size ] ) * ( len( wp ) ) ).astype( np.int32 )"
   ]
  },
  {
   "cell_type": "code",
   "execution_count": 12,
   "id": "c10b3bd8",
   "metadata": {},
   "outputs": [
    {
     "name": "stdout",
     "output_type": "stream",
     "text": [
      "\n",
      "\n",
      "=========================================================================================\n",
      "\n",
      "Loading from: saved/test6\n",
      "\n",
      "=========================================================================================\n",
      "\n",
      "\n",
      "[[1 1 1 1 1 1]]\n",
      "[[1 1 1 1 1 1]]\n",
      "[[1 1 1 1 1 1]]\n"
     ]
    }
   ],
   "source": [
    "with tf.device('/device:CPU:0'):\n",
    "\n",
    "    model = CardsEmbeding( 'test6', 'logs', len(wp), embeding_size, hand_size, max_repeat, num_blocks, num_heads )\n",
    "    model.load_training( 'saved/', model.m_name )\n",
    "    \n",
    "    o1, m1 = model( dec1 )\n",
    "    o2, m2 = model( dec2 )\n",
    "    o3, m3 = model( dec3 )\n",
    "\n",
    "    e1 = model.get_embeding( dec1 )\n",
    "    e2 = model.get_embeding( dec2 )\n",
    "    e3 = model.get_embeding( dec3 )\n",
    "    \n",
    "    print( np.argmax( o1, -1 )[0][-1][dec1] )\n",
    "    print( np.argmax( o2, -1 )[0][-1][dec2] )\n",
    "    print( np.argmax( o3, -1 )[0][-1][dec3] )"
   ]
  },
  {
   "cell_type": "code",
   "execution_count": 27,
   "id": "6d87b999",
   "metadata": {},
   "outputs": [
    {
     "name": "stdout",
     "output_type": "stream",
     "text": [
      "[[16  9 40 43  2 50]]\n",
      "[[47 14 25  4 42 43]]\n",
      "[[30  6 19 48 11 28]]\n",
      "(array([ 1,  3,  4,  7, 13, 14, 15, 16, 27, 41, 42, 43]),)\n"
     ]
    }
   ],
   "source": [
    "with tf.device('/device:CPU:0'):\n",
    "    op = e1 * e2\n",
    "    e3, e3m = model.reconstruct( op )\n",
    "    r = e3m.numpy()[0]\n",
    "\n",
    "print(dec1)\n",
    "print(dec2)\n",
    "print(dec3)\n",
    "print( np.where( r ) )"
   ]
  },
  {
   "cell_type": "code",
   "execution_count": null,
   "id": "820bbedf",
   "metadata": {},
   "outputs": [],
   "source": []
  }
 ],
 "metadata": {
  "kernelspec": {
   "display_name": "Python 3 (ipykernel)",
   "language": "python",
   "name": "python3"
  },
  "language_info": {
   "codemirror_mode": {
    "name": "ipython",
    "version": 3
   },
   "file_extension": ".py",
   "mimetype": "text/x-python",
   "name": "python",
   "nbconvert_exporter": "python",
   "pygments_lexer": "ipython3",
   "version": "3.8.10"
  }
 },
 "nbformat": 4,
 "nbformat_minor": 5
}
